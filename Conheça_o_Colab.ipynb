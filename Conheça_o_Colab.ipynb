{
  "cells": [
    {
      "cell_type": "markdown",
      "metadata": {
        "id": "view-in-github",
        "colab_type": "text"
      },
      "source": [
        "<a href=\"https://colab.research.google.com/github/RodrigoCornelio/JeanProj/blob/main/Conhe%C3%A7a_o_Colab.ipynb\" target=\"_parent\"><img src=\"https://colab.research.google.com/assets/colab-badge.svg\" alt=\"Open In Colab\"/></a>"
      ]
    },
    {
      "cell_type": "code",
      "source": [
        "import pandas as pd\n",
        "import numpy as np\n",
        "from sklearn.preprocessing import MinMaxScaler\n",
        "\n",
        "df = pd.read_excel('/content/Int.xlsx')\n",
        "\n",
        "print(df.columns)\n",
        "\n",
        "colunas_analise = ['População ', 'pib', 'gini', 'Bandalargam', 'bandalargaav',\n",
        "       'equitec', 'escolaInter', 'compalunos', 'incdigital']\n",
        "\n",
        "for col in colunas_analise:\n",
        "\n",
        "  df[col] = df[col].astype(str).str.replace(',', '.', regex=False)\n",
        "  df[col] = pd.to_numeric(df[col], errors='coerce')\n",
        "\n",
        "scaler = MinMaxScaler()\n",
        "df_normalizado = df.copy()\n",
        "df_normalizado[colunas_analise] = scaler.fit_transform(df[colunas_analise])\n",
        "\n",
        "\n",
        "pesos = {\n",
        "    'População ': 0.1,\n",
        "    'pib': 0.2,\n",
        "    'gini': -0.2,\n",
        "    'Bandalargam': 0.3,\n",
        "    'bandalargaav': 0.2,\n",
        "    'equitec': 0.25,\n",
        "    'escolaInter': 0.25,\n",
        "    'compalunos': 0.2,\n",
        "    'incdigital': 0.3\n",
        "}\n",
        "\n",
        "df_normalizado['pontuacao'] = 0\n",
        "\n",
        "for coluna, peso in pesos.items():\n",
        "    df_normalizado['pontuacao'] += df_normalizado[coluna] * peso\n",
        "\n",
        "    top_10 = df_normalizado.sort_values('pontuacao', ascending=False).head(10)\n",
        "\n",
        "print(\"Columns in top_10 DataFrame:\", top_10.columns)\n",
        "\n",
        "print(top_10[['cidade ', 'pontuacao']])\n"
      ],
      "metadata": {
        "id": "GtPGWHvdcPU2"
      },
      "execution_count": null,
      "outputs": []
    }
  ],
  "metadata": {
    "colab": {
      "name": "Conheça o Colab",
      "provenance": [],
      "include_colab_link": true
    },
    "kernelspec": {
      "display_name": "Python 3",
      "name": "python3"
    }
  },
  "nbformat": 4,
  "nbformat_minor": 0
}